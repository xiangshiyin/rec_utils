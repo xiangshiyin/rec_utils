{
 "cells": [
  {
   "cell_type": "code",
   "execution_count": 1,
   "metadata": {},
   "outputs": [],
   "source": [
    "%load_ext autoreload\n",
    "%autoreload 2\n",
    "\n",
    "import time\n",
    "import sys\n",
    "sys.path.append('../')\n",
    "import cf_ec2.dataPrep as dataPrep"
   ]
  },
  {
   "cell_type": "markdown",
   "metadata": {},
   "source": [
    "## step 1: import train data"
   ]
  },
  {
   "cell_type": "code",
   "execution_count": 2,
   "metadata": {},
   "outputs": [
    {
     "data": {
      "text/html": [
       "<div>\n",
       "<style scoped>\n",
       "    .dataframe tbody tr th:only-of-type {\n",
       "        vertical-align: middle;\n",
       "    }\n",
       "\n",
       "    .dataframe tbody tr th {\n",
       "        vertical-align: top;\n",
       "    }\n",
       "\n",
       "    .dataframe thead th {\n",
       "        text-align: right;\n",
       "    }\n",
       "</style>\n",
       "<table border=\"1\" class=\"dataframe\">\n",
       "  <thead>\n",
       "    <tr style=\"text-align: right;\">\n",
       "      <th></th>\n",
       "      <th>contact_uid</th>\n",
       "      <th>event_dt</th>\n",
       "      <th>make</th>\n",
       "      <th>model</th>\n",
       "      <th>jd_cat</th>\n",
       "      <th>jd_sub_cat</th>\n",
       "      <th>seller_cat</th>\n",
       "      <th>auction_cd</th>\n",
       "      <th>channel</th>\n",
       "      <th>age</th>\n",
       "      <th>mile</th>\n",
       "      <th>cr_grade</th>\n",
       "      <th>distance_miles</th>\n",
       "      <th>mmr</th>\n",
       "    </tr>\n",
       "  </thead>\n",
       "  <tbody>\n",
       "    <tr>\n",
       "      <th>0</th>\n",
       "      <td>100118431</td>\n",
       "      <td>2019-04-09</td>\n",
       "      <td>FORD</td>\n",
       "      <td>F150 FFV</td>\n",
       "      <td>PICKUP</td>\n",
       "      <td>LITE DUTY FULLS</td>\n",
       "      <td>Retail Dealership</td>\n",
       "      <td>FAAO</td>\n",
       "      <td>Simulcast</td>\n",
       "      <td>5</td>\n",
       "      <td>70737.0</td>\n",
       "      <td>4.3</td>\n",
       "      <td>680.0</td>\n",
       "      <td>15750.0</td>\n",
       "    </tr>\n",
       "    <tr>\n",
       "      <th>1</th>\n",
       "      <td>101224608</td>\n",
       "      <td>2018-09-25</td>\n",
       "      <td>NISSAN</td>\n",
       "      <td>ALTIMA</td>\n",
       "      <td>MIDSIZE CAR</td>\n",
       "      <td>PREMIUM</td>\n",
       "      <td>Captive Finance</td>\n",
       "      <td>FAAO</td>\n",
       "      <td>Simulcast</td>\n",
       "      <td>3</td>\n",
       "      <td>36019.0</td>\n",
       "      <td>4.3</td>\n",
       "      <td>2127.0</td>\n",
       "      <td>12000.0</td>\n",
       "    </tr>\n",
       "  </tbody>\n",
       "</table>\n",
       "</div>"
      ],
      "text/plain": [
       "   contact_uid    event_dt    make     model       jd_cat       jd_sub_cat  \\\n",
       "0    100118431  2019-04-09    FORD  F150 FFV       PICKUP  LITE DUTY FULLS   \n",
       "1    101224608  2018-09-25  NISSAN    ALTIMA  MIDSIZE CAR          PREMIUM   \n",
       "\n",
       "          seller_cat auction_cd    channel  age     mile  cr_grade  \\\n",
       "0  Retail Dealership       FAAO  Simulcast    5  70737.0       4.3   \n",
       "1    Captive Finance       FAAO  Simulcast    3  36019.0       4.3   \n",
       "\n",
       "   distance_miles      mmr  \n",
       "0           680.0  15750.0  \n",
       "1          2127.0  12000.0  "
      ]
     },
     "execution_count": 2,
     "metadata": {},
     "output_type": "execute_result"
    }
   ],
   "source": [
    "import pandas as pd\n",
    "\n",
    "data = pd.read_csv('../../rec_model_cf_20190702/metadata/trainData/purchase_20180731_20190725.csv',sep=',',header=0)\n",
    "data.head(2)"
   ]
  },
  {
   "cell_type": "code",
   "execution_count": 3,
   "metadata": {},
   "outputs": [
    {
     "data": {
      "text/html": [
       "<div>\n",
       "<style scoped>\n",
       "    .dataframe tbody tr th:only-of-type {\n",
       "        vertical-align: middle;\n",
       "    }\n",
       "\n",
       "    .dataframe tbody tr th {\n",
       "        vertical-align: top;\n",
       "    }\n",
       "\n",
       "    .dataframe thead th {\n",
       "        text-align: right;\n",
       "    }\n",
       "</style>\n",
       "<table border=\"1\" class=\"dataframe\">\n",
       "  <thead>\n",
       "    <tr style=\"text-align: right;\">\n",
       "      <th></th>\n",
       "      <th>contact_uid</th>\n",
       "      <th>ymm</th>\n",
       "      <th>freq</th>\n",
       "    </tr>\n",
       "  </thead>\n",
       "  <tbody>\n",
       "    <tr>\n",
       "      <th>0</th>\n",
       "      <td>100000012</td>\n",
       "      <td>10-BUICK-LACROSSE</td>\n",
       "      <td>1</td>\n",
       "    </tr>\n",
       "    <tr>\n",
       "      <th>1</th>\n",
       "      <td>100000012</td>\n",
       "      <td>10-CHEVROLET-IMPALA FFV</td>\n",
       "      <td>1</td>\n",
       "    </tr>\n",
       "    <tr>\n",
       "      <th>2</th>\n",
       "      <td>100000012</td>\n",
       "      <td>10-CHEVROLET-MALIBU</td>\n",
       "      <td>1</td>\n",
       "    </tr>\n",
       "    <tr>\n",
       "      <th>3</th>\n",
       "      <td>100000012</td>\n",
       "      <td>10-CHEVROLET-MALIBU FFV</td>\n",
       "      <td>1</td>\n",
       "    </tr>\n",
       "    <tr>\n",
       "      <th>4</th>\n",
       "      <td>100000012</td>\n",
       "      <td>10-FORD-ESCAPE</td>\n",
       "      <td>1</td>\n",
       "    </tr>\n",
       "  </tbody>\n",
       "</table>\n",
       "</div>"
      ],
      "text/plain": [
       "   contact_uid                      ymm  freq\n",
       "0    100000012        10-BUICK-LACROSSE     1\n",
       "1    100000012  10-CHEVROLET-IMPALA FFV     1\n",
       "2    100000012      10-CHEVROLET-MALIBU     1\n",
       "3    100000012  10-CHEVROLET-MALIBU FFV     1\n",
       "4    100000012           10-FORD-ESCAPE     1"
      ]
     },
     "execution_count": 3,
     "metadata": {},
     "output_type": "execute_result"
    }
   ],
   "source": [
    "data['ymm'] = [\n",
    "    '{year}-{make}-{model}'.format(\n",
    "        year=year,\n",
    "        make=make,\n",
    "        model=model\n",
    "    )\n",
    "    for year,make,model in zip(data.age,data.make,data.model)\n",
    "]\n",
    "\n",
    "train = data[data.event_dt>='2019-04-26'].groupby(['contact_uid','ymm']).size().reset_index().rename(columns={0:'freq'})\n",
    "test = data[\n",
    "    (data.event_dt>='2019-03-26')&(data.event_dt<='2019-04-25')\n",
    "].groupby(['contact_uid','ymm']).size().reset_index().rename(columns={0:'freq'})\n",
    "train.head(5)"
   ]
  },
  {
   "cell_type": "markdown",
   "metadata": {},
   "source": [
    "## step 2: test the dataPrep module"
   ]
  },
  {
   "cell_type": "code",
   "execution_count": 4,
   "metadata": {},
   "outputs": [],
   "source": [
    "dataset = dataPrep.Data(\n",
    "    train=train,\n",
    "    test=test,\n",
    "    col_user='contact_uid',\n",
    "    col_item='ymm',\n",
    "    col_rating='freq'\n",
    ")"
   ]
  },
  {
   "cell_type": "code",
   "execution_count": 5,
   "metadata": {},
   "outputs": [
    {
     "data": {
      "text/html": [
       "<div>\n",
       "<style scoped>\n",
       "    .dataframe tbody tr th:only-of-type {\n",
       "        vertical-align: middle;\n",
       "    }\n",
       "\n",
       "    .dataframe tbody tr th {\n",
       "        vertical-align: top;\n",
       "    }\n",
       "\n",
       "    .dataframe thead th {\n",
       "        text-align: right;\n",
       "    }\n",
       "</style>\n",
       "<table border=\"1\" class=\"dataframe\">\n",
       "  <thead>\n",
       "    <tr style=\"text-align: right;\">\n",
       "      <th></th>\n",
       "      <th>contact_uid</th>\n",
       "      <th>ymm</th>\n",
       "      <th>freq</th>\n",
       "    </tr>\n",
       "  </thead>\n",
       "  <tbody>\n",
       "    <tr>\n",
       "      <th>0</th>\n",
       "      <td>0</td>\n",
       "      <td>0</td>\n",
       "      <td>1</td>\n",
       "    </tr>\n",
       "    <tr>\n",
       "      <th>1</th>\n",
       "      <td>0</td>\n",
       "      <td>1</td>\n",
       "      <td>1</td>\n",
       "    </tr>\n",
       "    <tr>\n",
       "      <th>2</th>\n",
       "      <td>0</td>\n",
       "      <td>2</td>\n",
       "      <td>1</td>\n",
       "    </tr>\n",
       "  </tbody>\n",
       "</table>\n",
       "</div>"
      ],
      "text/plain": [
       "   contact_uid  ymm  freq\n",
       "0            0    0     1\n",
       "1            0    1     1\n",
       "2            0    2     1"
      ]
     },
     "execution_count": 5,
     "metadata": {},
     "output_type": "execute_result"
    }
   ],
   "source": [
    "dataset.train.head(3)"
   ]
  },
  {
   "cell_type": "code",
   "execution_count": 6,
   "metadata": {},
   "outputs": [
    {
     "data": {
      "text/plain": [
       "(100000012, '10-BUICK-LACROSSE')"
      ]
     },
     "execution_count": 6,
     "metadata": {},
     "output_type": "execute_result"
    }
   ],
   "source": [
    "dataset.id2user[0], dataset.id2item[0]"
   ]
  },
  {
   "cell_type": "code",
   "execution_count": 7,
   "metadata": {},
   "outputs": [
    {
     "data": {
      "text/html": [
       "<div>\n",
       "<style scoped>\n",
       "    .dataframe tbody tr th:only-of-type {\n",
       "        vertical-align: middle;\n",
       "    }\n",
       "\n",
       "    .dataframe tbody tr th {\n",
       "        vertical-align: top;\n",
       "    }\n",
       "\n",
       "    .dataframe thead th {\n",
       "        text-align: right;\n",
       "    }\n",
       "</style>\n",
       "<table border=\"1\" class=\"dataframe\">\n",
       "  <thead>\n",
       "    <tr style=\"text-align: right;\">\n",
       "      <th></th>\n",
       "      <th>contact_uid</th>\n",
       "      <th>ymm</th>\n",
       "      <th>freq</th>\n",
       "      <th>contact_uid_idx</th>\n",
       "      <th>ymm_idx</th>\n",
       "    </tr>\n",
       "  </thead>\n",
       "  <tbody>\n",
       "    <tr>\n",
       "      <th>0</th>\n",
       "      <td>100000012</td>\n",
       "      <td>10-BUICK-LACROSSE</td>\n",
       "      <td>1</td>\n",
       "      <td>0</td>\n",
       "      <td>0</td>\n",
       "    </tr>\n",
       "    <tr>\n",
       "      <th>1</th>\n",
       "      <td>100000012</td>\n",
       "      <td>10-CHEVROLET-IMPALA FFV</td>\n",
       "      <td>1</td>\n",
       "      <td>0</td>\n",
       "      <td>1</td>\n",
       "    </tr>\n",
       "    <tr>\n",
       "      <th>2</th>\n",
       "      <td>100000012</td>\n",
       "      <td>10-CHEVROLET-MALIBU</td>\n",
       "      <td>1</td>\n",
       "      <td>0</td>\n",
       "      <td>2</td>\n",
       "    </tr>\n",
       "  </tbody>\n",
       "</table>\n",
       "</div>"
      ],
      "text/plain": [
       "   contact_uid                      ymm  freq  contact_uid_idx  ymm_idx\n",
       "0    100000012        10-BUICK-LACROSSE     1                0        0\n",
       "1    100000012  10-CHEVROLET-IMPALA FFV     1                0        1\n",
       "2    100000012      10-CHEVROLET-MALIBU     1                0        2"
      ]
     },
     "execution_count": 7,
     "metadata": {},
     "output_type": "execute_result"
    }
   ],
   "source": [
    "train.head(3)"
   ]
  },
  {
   "cell_type": "code",
   "execution_count": 8,
   "metadata": {},
   "outputs": [
    {
     "name": "stdout",
     "output_type": "stream",
     "text": [
      "Finished in 42.79367017745972 seconds\n"
     ]
    }
   ],
   "source": [
    "t1 = time.time()\n",
    "dataset.prepTrainDNN()\n",
    "print('Finished in {} seconds'.format(time.time()-t1))"
   ]
  },
  {
   "cell_type": "code",
   "execution_count": 9,
   "metadata": {},
   "outputs": [
    {
     "data": {
      "text/html": [
       "<div>\n",
       "<style scoped>\n",
       "    .dataframe tbody tr th:only-of-type {\n",
       "        vertical-align: middle;\n",
       "    }\n",
       "\n",
       "    .dataframe tbody tr th {\n",
       "        vertical-align: top;\n",
       "    }\n",
       "\n",
       "    .dataframe thead th {\n",
       "        text-align: right;\n",
       "    }\n",
       "</style>\n",
       "<table border=\"1\" class=\"dataframe\">\n",
       "  <thead>\n",
       "    <tr style=\"text-align: right;\">\n",
       "      <th></th>\n",
       "      <th>contact_uid</th>\n",
       "      <th>ymm_interacted</th>\n",
       "      <th>ymm_negative</th>\n",
       "    </tr>\n",
       "  </thead>\n",
       "  <tbody>\n",
       "    <tr>\n",
       "      <th>0</th>\n",
       "      <td>0</td>\n",
       "      <td>{0, 1, 2, 3, 4, 5, 6, 7, 8, 9, 10, 11, 12, 13,...</td>\n",
       "      <td>{68, 69, 70, 71, 72, 73, 74, 75, 76, 77, 78, 7...</td>\n",
       "    </tr>\n",
       "    <tr>\n",
       "      <th>1</th>\n",
       "      <td>1</td>\n",
       "      <td>{68, 69, 70, 71, 72, 73, 74, 75, 76, 77, 78, 7...</td>\n",
       "      <td>{0, 1, 2, 3, 4, 5, 6, 7, 8, 9, 10, 11, 12, 13,...</td>\n",
       "    </tr>\n",
       "  </tbody>\n",
       "</table>\n",
       "</div>"
      ],
      "text/plain": [
       "   contact_uid                                     ymm_interacted  \\\n",
       "0            0  {0, 1, 2, 3, 4, 5, 6, 7, 8, 9, 10, 11, 12, 13,...   \n",
       "1            1  {68, 69, 70, 71, 72, 73, 74, 75, 76, 77, 78, 7...   \n",
       "\n",
       "                                        ymm_negative  \n",
       "0  {68, 69, 70, 71, 72, 73, 74, 75, 76, 77, 78, 7...  \n",
       "1  {0, 1, 2, 3, 4, 5, 6, 7, 8, 9, 10, 11, 12, 13,...  "
      ]
     },
     "execution_count": 9,
     "metadata": {},
     "output_type": "execute_result"
    }
   ],
   "source": [
    "dataset.interaction_train.head(2)"
   ]
  },
  {
   "cell_type": "code",
   "execution_count": 10,
   "metadata": {},
   "outputs": [
    {
     "data": {
      "text/plain": [
       "(array([0, 0, 0, 0, 0]), array([0, 1, 2, 3, 4]), array([1, 1, 1, 1, 1]))"
      ]
     },
     "execution_count": 10,
     "metadata": {},
     "output_type": "execute_result"
    }
   ],
   "source": [
    "dataset.users[:5],dataset.items[:5],dataset.ratings[:5]"
   ]
  },
  {
   "cell_type": "code",
   "execution_count": 11,
   "metadata": {},
   "outputs": [],
   "source": [
    "# t1 = time.time()\n",
    "# interaction_test,testPlusNegSample = dataset.prepTestDNN()\n",
    "# print('Finished in {} seconds'.format(time.time()-t1))"
   ]
  },
  {
   "cell_type": "code",
   "execution_count": 12,
   "metadata": {},
   "outputs": [
    {
     "name": "stdout",
     "output_type": "stream",
     "text": [
      "Finished in 61.210012912750244 seconds\n"
     ]
    }
   ],
   "source": [
    "t1 = time.time()\n",
    "\n",
    "col_user='contact_uid'\n",
    "col_item='ymm'\n",
    "interaction_test = dataset.test.groupby(col_user)[col_item]\\\n",
    "    .apply(set)\\\n",
    "        .reset_index()\\\n",
    "            .rename(columns={\n",
    "                col_item:col_item+'_interacted_test'\n",
    "            })\n",
    "interaction_test = pd.merge(\n",
    "    interaction_test,\n",
    "    dataset.interaction_train,\n",
    "    on=col_user,\n",
    "    how='inner'\n",
    ")\n",
    "\n",
    "print('Finished in {} seconds'.format(time.time()-t1))"
   ]
  },
  {
   "cell_type": "code",
   "execution_count": 13,
   "metadata": {},
   "outputs": [
    {
     "data": {
      "text/html": [
       "<div>\n",
       "<style scoped>\n",
       "    .dataframe tbody tr th:only-of-type {\n",
       "        vertical-align: middle;\n",
       "    }\n",
       "\n",
       "    .dataframe tbody tr th {\n",
       "        vertical-align: top;\n",
       "    }\n",
       "\n",
       "    .dataframe thead th {\n",
       "        text-align: right;\n",
       "    }\n",
       "</style>\n",
       "<table border=\"1\" class=\"dataframe\">\n",
       "  <thead>\n",
       "    <tr style=\"text-align: right;\">\n",
       "      <th></th>\n",
       "      <th>contact_uid</th>\n",
       "      <th>ymm_interacted_test</th>\n",
       "      <th>ymm_interacted</th>\n",
       "      <th>ymm_negative</th>\n",
       "    </tr>\n",
       "  </thead>\n",
       "  <tbody>\n",
       "    <tr>\n",
       "      <th>0</th>\n",
       "      <td>0</td>\n",
       "      <td>{640, 3457, 1669, 649, 10, 1802, 651, 660, 309...</td>\n",
       "      <td>{0, 1, 2, 3, 4, 5, 6, 7, 8, 9, 10, 11, 12, 13,...</td>\n",
       "      <td>{68, 69, 70, 71, 72, 73, 74, 75, 76, 77, 78, 7...</td>\n",
       "    </tr>\n",
       "    <tr>\n",
       "      <th>1</th>\n",
       "      <td>1</td>\n",
       "      <td>{641, 2435, 100, 369, 633}</td>\n",
       "      <td>{68, 69, 70, 71, 72, 73, 74, 75, 76, 77, 78, 7...</td>\n",
       "      <td>{0, 1, 2, 3, 4, 5, 6, 7, 8, 9, 10, 11, 12, 13,...</td>\n",
       "    </tr>\n",
       "    <tr>\n",
       "      <th>2</th>\n",
       "      <td>2</td>\n",
       "      <td>{96, 97, 98, 72, 4715, 4203, 494, 944, 1011, 5...</td>\n",
       "      <td>{71, 72, 73, 83, 84, 85, 86, 87, 88, 89, 90, 9...</td>\n",
       "      <td>{0, 1, 2, 3, 4, 5, 6, 7, 8, 9, 10, 11, 12, 13,...</td>\n",
       "    </tr>\n",
       "    <tr>\n",
       "      <th>3</th>\n",
       "      <td>3</td>\n",
       "      <td>{1784, 118}</td>\n",
       "      <td>{110, 111, 112, 113, 114, 115}</td>\n",
       "      <td>{0, 1, 2, 3, 4, 5, 6, 7, 8, 9, 10, 11, 12, 13,...</td>\n",
       "    </tr>\n",
       "  </tbody>\n",
       "</table>\n",
       "</div>"
      ],
      "text/plain": [
       "   contact_uid                                ymm_interacted_test  \\\n",
       "0            0  {640, 3457, 1669, 649, 10, 1802, 651, 660, 309...   \n",
       "1            1                         {641, 2435, 100, 369, 633}   \n",
       "2            2  {96, 97, 98, 72, 4715, 4203, 494, 944, 1011, 5...   \n",
       "3            3                                        {1784, 118}   \n",
       "\n",
       "                                      ymm_interacted  \\\n",
       "0  {0, 1, 2, 3, 4, 5, 6, 7, 8, 9, 10, 11, 12, 13,...   \n",
       "1  {68, 69, 70, 71, 72, 73, 74, 75, 76, 77, 78, 7...   \n",
       "2  {71, 72, 73, 83, 84, 85, 86, 87, 88, 89, 90, 9...   \n",
       "3                     {110, 111, 112, 113, 114, 115}   \n",
       "\n",
       "                                        ymm_negative  \n",
       "0  {68, 69, 70, 71, 72, 73, 74, 75, 76, 77, 78, 7...  \n",
       "1  {0, 1, 2, 3, 4, 5, 6, 7, 8, 9, 10, 11, 12, 13,...  \n",
       "2  {0, 1, 2, 3, 4, 5, 6, 7, 8, 9, 10, 11, 12, 13,...  \n",
       "3  {0, 1, 2, 3, 4, 5, 6, 7, 8, 9, 10, 11, 12, 13,...  "
      ]
     },
     "execution_count": 13,
     "metadata": {},
     "output_type": "execute_result"
    }
   ],
   "source": [
    "interaction_test.head(4)"
   ]
  },
  {
   "cell_type": "code",
   "execution_count": 14,
   "metadata": {},
   "outputs": [
    {
     "data": {
      "text/plain": [
       "(38111, 4)"
      ]
     },
     "execution_count": 14,
     "metadata": {},
     "output_type": "execute_result"
    }
   ],
   "source": [
    "interaction_test.shape"
   ]
  },
  {
   "cell_type": "code",
   "execution_count": 15,
   "metadata": {},
   "outputs": [
    {
     "data": {
      "text/plain": [
       "(0, 4)"
      ]
     },
     "execution_count": 15,
     "metadata": {},
     "output_type": "execute_result"
    }
   ],
   "source": [
    "interaction_test.loc[interaction_test.ymm_interacted.isna()].shape"
   ]
  },
  {
   "cell_type": "code",
   "execution_count": 16,
   "metadata": {},
   "outputs": [],
   "source": [
    "usersInTrain = set(dataset.train.contact_uid.unique())\n",
    "usersInTest = set(dataset.test.contact_uid.unique())"
   ]
  },
  {
   "cell_type": "code",
   "execution_count": 17,
   "metadata": {},
   "outputs": [
    {
     "data": {
      "text/plain": [
       "7709"
      ]
     },
     "execution_count": 17,
     "metadata": {},
     "output_type": "execute_result"
    }
   ],
   "source": [
    "len(usersInTest-usersInTrain)"
   ]
  },
  {
   "cell_type": "code",
   "execution_count": 18,
   "metadata": {},
   "outputs": [],
   "source": [
    "# t1 = time.time()\n",
    "\n",
    "# ## generate the negative sample set (based on negative set in training data)\n",
    "# interaction_test[col_item+'_negative']=interaction_test.apply(\n",
    "#     lambda row: row[col_item+'_negative']-row[col_item+'_interacted_test'],\n",
    "#     axis=1\n",
    "# )\n",
    "\n",
    "# print('Finished in {} seconds'.format(time.time()-t1))\n",
    "# #### Finished in 221.78759717941284 seconds"
   ]
  },
  {
   "cell_type": "code",
   "execution_count": 19,
   "metadata": {},
   "outputs": [
    {
     "name": "stdout",
     "output_type": "stream",
     "text": [
      "Finished in 48.392561197280884 seconds\n"
     ]
    }
   ],
   "source": [
    "t1 = time.time()\n",
    "\n",
    "for row in interaction_test.itertuples():\n",
    "    interaction_test.at[row.Index,col_item+'_negative'] = row[4]-row[2]\n",
    "\n",
    "print('Finished in {} seconds'.format(time.time()-t1))\n",
    "#### Finished in 51.43584108352661 seconds"
   ]
  },
  {
   "cell_type": "code",
   "execution_count": 20,
   "metadata": {},
   "outputs": [
    {
     "data": {
      "text/html": [
       "<div>\n",
       "<style scoped>\n",
       "    .dataframe tbody tr th:only-of-type {\n",
       "        vertical-align: middle;\n",
       "    }\n",
       "\n",
       "    .dataframe tbody tr th {\n",
       "        vertical-align: top;\n",
       "    }\n",
       "\n",
       "    .dataframe thead th {\n",
       "        text-align: right;\n",
       "    }\n",
       "</style>\n",
       "<table border=\"1\" class=\"dataframe\">\n",
       "  <thead>\n",
       "    <tr style=\"text-align: right;\">\n",
       "      <th></th>\n",
       "      <th>contact_uid</th>\n",
       "      <th>ymm_interacted_test</th>\n",
       "      <th>ymm_interacted</th>\n",
       "      <th>ymm_negative</th>\n",
       "    </tr>\n",
       "  </thead>\n",
       "  <tbody>\n",
       "    <tr>\n",
       "      <th>0</th>\n",
       "      <td>0</td>\n",
       "      <td>{640, 3457, 1669, 649, 10, 1802, 651, 660, 309...</td>\n",
       "      <td>{0, 1, 2, 3, 4, 5, 6, 7, 8, 9, 10, 11, 12, 13,...</td>\n",
       "      <td>{68, 69, 70, 71, 72, 73, 74, 75, 76, 77, 78, 7...</td>\n",
       "    </tr>\n",
       "    <tr>\n",
       "      <th>1</th>\n",
       "      <td>1</td>\n",
       "      <td>{641, 2435, 100, 369, 633}</td>\n",
       "      <td>{68, 69, 70, 71, 72, 73, 74, 75, 76, 77, 78, 7...</td>\n",
       "      <td>{0, 1, 2, 3, 4, 5, 6, 7, 8, 9, 10, 11, 12, 13,...</td>\n",
       "    </tr>\n",
       "    <tr>\n",
       "      <th>2</th>\n",
       "      <td>2</td>\n",
       "      <td>{96, 97, 98, 72, 4715, 4203, 494, 944, 1011, 5...</td>\n",
       "      <td>{71, 72, 73, 83, 84, 85, 86, 87, 88, 89, 90, 9...</td>\n",
       "      <td>{0, 1, 2, 3, 4, 5, 6, 7, 8, 9, 10, 11, 12, 13,...</td>\n",
       "    </tr>\n",
       "  </tbody>\n",
       "</table>\n",
       "</div>"
      ],
      "text/plain": [
       "   contact_uid                                ymm_interacted_test  \\\n",
       "0            0  {640, 3457, 1669, 649, 10, 1802, 651, 660, 309...   \n",
       "1            1                         {641, 2435, 100, 369, 633}   \n",
       "2            2  {96, 97, 98, 72, 4715, 4203, 494, 944, 1011, 5...   \n",
       "\n",
       "                                      ymm_interacted  \\\n",
       "0  {0, 1, 2, 3, 4, 5, 6, 7, 8, 9, 10, 11, 12, 13,...   \n",
       "1  {68, 69, 70, 71, 72, 73, 74, 75, 76, 77, 78, 7...   \n",
       "2  {71, 72, 73, 83, 84, 85, 86, 87, 88, 89, 90, 9...   \n",
       "\n",
       "                                        ymm_negative  \n",
       "0  {68, 69, 70, 71, 72, 73, 74, 75, 76, 77, 78, 7...  \n",
       "1  {0, 1, 2, 3, 4, 5, 6, 7, 8, 9, 10, 11, 12, 13,...  \n",
       "2  {0, 1, 2, 3, 4, 5, 6, 7, 8, 9, 10, 11, 12, 13,...  "
      ]
     },
     "execution_count": 20,
     "metadata": {},
     "output_type": "execute_result"
    }
   ],
   "source": [
    "interaction_test.head(3)"
   ]
  },
  {
   "cell_type": "markdown",
   "metadata": {},
   "source": [
    "#### full test after the optimization"
   ]
  },
  {
   "cell_type": "code",
   "execution_count": 21,
   "metadata": {},
   "outputs": [
    {
     "name": "stdout",
     "output_type": "stream",
     "text": [
      "Finished initial join with train in 4.671973705291748 seconds\n",
      "Finished negative sample clean in 183.66682291030884 seconds\n",
      "Finished negative sample assignment in test data in 183.87535786628723 seconds\n",
      "Finished negative sampling in test data in 924.1819598674774 seconds\n"
     ]
    }
   ],
   "source": [
    "# t1 = time.time()\n",
    "interaction_test, testPlusNegSample = dataset.prepTestDNN()\n",
    "# print('Finished in {} seconds'.format(time.time()-t1))"
   ]
  },
  {
   "cell_type": "code",
   "execution_count": 22,
   "metadata": {},
   "outputs": [
    {
     "data": {
      "text/html": [
       "<div>\n",
       "<style scoped>\n",
       "    .dataframe tbody tr th:only-of-type {\n",
       "        vertical-align: middle;\n",
       "    }\n",
       "\n",
       "    .dataframe tbody tr th {\n",
       "        vertical-align: top;\n",
       "    }\n",
       "\n",
       "    .dataframe thead th {\n",
       "        text-align: right;\n",
       "    }\n",
       "</style>\n",
       "<table border=\"1\" class=\"dataframe\">\n",
       "  <thead>\n",
       "    <tr style=\"text-align: right;\">\n",
       "      <th></th>\n",
       "      <th>contact_uid</th>\n",
       "      <th>ymm_interacted_test</th>\n",
       "      <th>ymm_interacted</th>\n",
       "      <th>ymm_negative</th>\n",
       "    </tr>\n",
       "  </thead>\n",
       "  <tbody>\n",
       "    <tr>\n",
       "      <th>0</th>\n",
       "      <td>0</td>\n",
       "      <td>{640, 3457, 1669, 649, 10, 1802, 651, 660, 309...</td>\n",
       "      <td>{0, 1, 2, 3, 4, 5, 6, 7, 8, 9, 10, 11, 12, 13,...</td>\n",
       "      <td>{68, 69, 70, 71, 72, 73, 74, 75, 76, 77, 78, 7...</td>\n",
       "    </tr>\n",
       "    <tr>\n",
       "      <th>1</th>\n",
       "      <td>1</td>\n",
       "      <td>{641, 2435, 100, 369, 633}</td>\n",
       "      <td>{68, 69, 70, 71, 72, 73, 74, 75, 76, 77, 78, 7...</td>\n",
       "      <td>{0, 1, 2, 3, 4, 5, 6, 7, 8, 9, 10, 11, 12, 13,...</td>\n",
       "    </tr>\n",
       "    <tr>\n",
       "      <th>2</th>\n",
       "      <td>2</td>\n",
       "      <td>{96, 97, 98, 72, 4715, 4203, 494, 944, 1011, 5...</td>\n",
       "      <td>{71, 72, 73, 83, 84, 85, 86, 87, 88, 89, 90, 9...</td>\n",
       "      <td>{0, 1, 2, 3, 4, 5, 6, 7, 8, 9, 10, 11, 12, 13,...</td>\n",
       "    </tr>\n",
       "  </tbody>\n",
       "</table>\n",
       "</div>"
      ],
      "text/plain": [
       "   contact_uid                                ymm_interacted_test  \\\n",
       "0            0  {640, 3457, 1669, 649, 10, 1802, 651, 660, 309...   \n",
       "1            1                         {641, 2435, 100, 369, 633}   \n",
       "2            2  {96, 97, 98, 72, 4715, 4203, 494, 944, 1011, 5...   \n",
       "\n",
       "                                      ymm_interacted  \\\n",
       "0  {0, 1, 2, 3, 4, 5, 6, 7, 8, 9, 10, 11, 12, 13,...   \n",
       "1  {68, 69, 70, 71, 72, 73, 74, 75, 76, 77, 78, 7...   \n",
       "2  {71, 72, 73, 83, 84, 85, 86, 87, 88, 89, 90, 9...   \n",
       "\n",
       "                                        ymm_negative  \n",
       "0  {68, 69, 70, 71, 72, 73, 74, 75, 76, 77, 78, 7...  \n",
       "1  {0, 1, 2, 3, 4, 5, 6, 7, 8, 9, 10, 11, 12, 13,...  \n",
       "2  {0, 1, 2, 3, 4, 5, 6, 7, 8, 9, 10, 11, 12, 13,...  "
      ]
     },
     "execution_count": 22,
     "metadata": {},
     "output_type": "execute_result"
    }
   ],
   "source": [
    "interaction_test.head(3)"
   ]
  },
  {
   "cell_type": "code",
   "execution_count": 23,
   "metadata": {},
   "outputs": [
    {
     "data": {
      "text/html": [
       "<div>\n",
       "<style scoped>\n",
       "    .dataframe tbody tr th:only-of-type {\n",
       "        vertical-align: middle;\n",
       "    }\n",
       "\n",
       "    .dataframe tbody tr th {\n",
       "        vertical-align: top;\n",
       "    }\n",
       "\n",
       "    .dataframe thead th {\n",
       "        text-align: right;\n",
       "    }\n",
       "</style>\n",
       "<table border=\"1\" class=\"dataframe\">\n",
       "  <thead>\n",
       "    <tr style=\"text-align: right;\">\n",
       "      <th></th>\n",
       "      <th>contact_uid</th>\n",
       "      <th>ymm</th>\n",
       "      <th>freq</th>\n",
       "      <th>ymm_negative</th>\n",
       "    </tr>\n",
       "  </thead>\n",
       "  <tbody>\n",
       "    <tr>\n",
       "      <th>0</th>\n",
       "      <td>0</td>\n",
       "      <td>4345</td>\n",
       "      <td>1</td>\n",
       "      <td>[4233, 1762, 2214, 8636, 966, 5450, 879, 299, ...</td>\n",
       "    </tr>\n",
       "    <tr>\n",
       "      <th>1</th>\n",
       "      <td>0</td>\n",
       "      <td>10</td>\n",
       "      <td>1</td>\n",
       "      <td>[5658, 657, 3503, 5920, 3603, 4783, 5554, 1613...</td>\n",
       "    </tr>\n",
       "    <tr>\n",
       "      <th>2</th>\n",
       "      <td>0</td>\n",
       "      <td>2234</td>\n",
       "      <td>1</td>\n",
       "      <td>[5330, 5837, 9383, 9496, 337, 5219, 4207, 3090...</td>\n",
       "    </tr>\n",
       "  </tbody>\n",
       "</table>\n",
       "</div>"
      ],
      "text/plain": [
       "   contact_uid   ymm  freq                                       ymm_negative\n",
       "0            0  4345     1  [4233, 1762, 2214, 8636, 966, 5450, 879, 299, ...\n",
       "1            0    10     1  [5658, 657, 3503, 5920, 3603, 4783, 5554, 1613...\n",
       "2            0  2234     1  [5330, 5837, 9383, 9496, 337, 5219, 4207, 3090..."
      ]
     },
     "execution_count": 23,
     "metadata": {},
     "output_type": "execute_result"
    }
   ],
   "source": [
    "testPlusNegSample.head(3)"
   ]
  },
  {
   "cell_type": "code",
   "execution_count": 24,
   "metadata": {},
   "outputs": [
    {
     "data": {
      "text/plain": [
       "8793"
      ]
     },
     "execution_count": 24,
     "metadata": {},
     "output_type": "execute_result"
    }
   ],
   "source": [
    "interaction_test[col_item+'_negative'].map(lambda negSet: len(negSet)).min()"
   ]
  },
  {
   "cell_type": "code",
   "execution_count": 25,
   "metadata": {},
   "outputs": [
    {
     "data": {
      "text/html": [
       "<div>\n",
       "<style scoped>\n",
       "    .dataframe tbody tr th:only-of-type {\n",
       "        vertical-align: middle;\n",
       "    }\n",
       "\n",
       "    .dataframe tbody tr th {\n",
       "        vertical-align: top;\n",
       "    }\n",
       "\n",
       "    .dataframe thead th {\n",
       "        text-align: right;\n",
       "    }\n",
       "</style>\n",
       "<table border=\"1\" class=\"dataframe\">\n",
       "  <thead>\n",
       "    <tr style=\"text-align: right;\">\n",
       "      <th></th>\n",
       "      <th>contact_uid</th>\n",
       "      <th>ymm</th>\n",
       "      <th>freq</th>\n",
       "    </tr>\n",
       "  </thead>\n",
       "  <tbody>\n",
       "    <tr>\n",
       "      <th>0</th>\n",
       "      <td>0</td>\n",
       "      <td>4345</td>\n",
       "      <td>1</td>\n",
       "    </tr>\n",
       "    <tr>\n",
       "      <th>1</th>\n",
       "      <td>0</td>\n",
       "      <td>10</td>\n",
       "      <td>1</td>\n",
       "    </tr>\n",
       "    <tr>\n",
       "      <th>2</th>\n",
       "      <td>0</td>\n",
       "      <td>2234</td>\n",
       "      <td>1</td>\n",
       "    </tr>\n",
       "  </tbody>\n",
       "</table>\n",
       "</div>"
      ],
      "text/plain": [
       "   contact_uid   ymm  freq\n",
       "0            0  4345     1\n",
       "1            0    10     1\n",
       "2            0  2234     1"
      ]
     },
     "execution_count": 25,
     "metadata": {},
     "output_type": "execute_result"
    }
   ],
   "source": [
    "dataset.test.head(3)"
   ]
  },
  {
   "cell_type": "markdown",
   "metadata": {},
   "source": [
    "#### after optimization"
   ]
  },
  {
   "cell_type": "code",
   "execution_count": 26,
   "metadata": {},
   "outputs": [],
   "source": [
    "del interaction_test, testPlusNegSample "
   ]
  },
  {
   "cell_type": "code",
   "execution_count": 27,
   "metadata": {},
   "outputs": [
    {
     "data": {
      "text/plain": [
       "5154"
      ]
     },
     "execution_count": 27,
     "metadata": {},
     "output_type": "execute_result"
    }
   ],
   "source": [
    "import gc\n",
    "gc.collect()"
   ]
  },
  {
   "cell_type": "code",
   "execution_count": 28,
   "metadata": {},
   "outputs": [
    {
     "name": "stdout",
     "output_type": "stream",
     "text": [
      "Finished initial join with train in 4.830550193786621 seconds\n",
      "Finished negative sample clean in 67.01980018615723 seconds\n",
      "Finished negative sample assignment in test data in 67.1736741065979 seconds\n",
      "Finished negative sampling in test data in 402.6069803237915 seconds\n"
     ]
    }
   ],
   "source": [
    "interaction_test, testPlusNegSample = dataset.prepTestDNN()"
   ]
  },
  {
   "cell_type": "code",
   "execution_count": 29,
   "metadata": {},
   "outputs": [
    {
     "data": {
      "text/html": [
       "<div>\n",
       "<style scoped>\n",
       "    .dataframe tbody tr th:only-of-type {\n",
       "        vertical-align: middle;\n",
       "    }\n",
       "\n",
       "    .dataframe tbody tr th {\n",
       "        vertical-align: top;\n",
       "    }\n",
       "\n",
       "    .dataframe thead th {\n",
       "        text-align: right;\n",
       "    }\n",
       "</style>\n",
       "<table border=\"1\" class=\"dataframe\">\n",
       "  <thead>\n",
       "    <tr style=\"text-align: right;\">\n",
       "      <th></th>\n",
       "      <th>contact_uid</th>\n",
       "      <th>ymm_interacted_test</th>\n",
       "      <th>ymm_interacted</th>\n",
       "      <th>ymm_negative</th>\n",
       "    </tr>\n",
       "  </thead>\n",
       "  <tbody>\n",
       "    <tr>\n",
       "      <th>0</th>\n",
       "      <td>0</td>\n",
       "      <td>{640, 3457, 1669, 649, 10, 1802, 651, 660, 309...</td>\n",
       "      <td>{0, 1, 2, 3, 4, 5, 6, 7, 8, 9, 10, 11, 12, 13,...</td>\n",
       "      <td>{68, 69, 70, 71, 72, 73, 74, 75, 76, 77, 78, 7...</td>\n",
       "    </tr>\n",
       "    <tr>\n",
       "      <th>1</th>\n",
       "      <td>1</td>\n",
       "      <td>{641, 2435, 100, 369, 633}</td>\n",
       "      <td>{68, 69, 70, 71, 72, 73, 74, 75, 76, 77, 78, 7...</td>\n",
       "      <td>{0, 1, 2, 3, 4, 5, 6, 7, 8, 9, 10, 11, 12, 13,...</td>\n",
       "    </tr>\n",
       "    <tr>\n",
       "      <th>2</th>\n",
       "      <td>2</td>\n",
       "      <td>{96, 97, 98, 72, 4715, 4203, 494, 944, 1011, 5...</td>\n",
       "      <td>{71, 72, 73, 83, 84, 85, 86, 87, 88, 89, 90, 9...</td>\n",
       "      <td>{0, 1, 2, 3, 4, 5, 6, 7, 8, 9, 10, 11, 12, 13,...</td>\n",
       "    </tr>\n",
       "  </tbody>\n",
       "</table>\n",
       "</div>"
      ],
      "text/plain": [
       "   contact_uid                                ymm_interacted_test  \\\n",
       "0            0  {640, 3457, 1669, 649, 10, 1802, 651, 660, 309...   \n",
       "1            1                         {641, 2435, 100, 369, 633}   \n",
       "2            2  {96, 97, 98, 72, 4715, 4203, 494, 944, 1011, 5...   \n",
       "\n",
       "                                      ymm_interacted  \\\n",
       "0  {0, 1, 2, 3, 4, 5, 6, 7, 8, 9, 10, 11, 12, 13,...   \n",
       "1  {68, 69, 70, 71, 72, 73, 74, 75, 76, 77, 78, 7...   \n",
       "2  {71, 72, 73, 83, 84, 85, 86, 87, 88, 89, 90, 9...   \n",
       "\n",
       "                                        ymm_negative  \n",
       "0  {68, 69, 70, 71, 72, 73, 74, 75, 76, 77, 78, 7...  \n",
       "1  {0, 1, 2, 3, 4, 5, 6, 7, 8, 9, 10, 11, 12, 13,...  \n",
       "2  {0, 1, 2, 3, 4, 5, 6, 7, 8, 9, 10, 11, 12, 13,...  "
      ]
     },
     "execution_count": 29,
     "metadata": {},
     "output_type": "execute_result"
    }
   ],
   "source": [
    "interaction_test.head(3)"
   ]
  },
  {
   "cell_type": "code",
   "execution_count": 30,
   "metadata": {},
   "outputs": [
    {
     "data": {
      "text/html": [
       "<div>\n",
       "<style scoped>\n",
       "    .dataframe tbody tr th:only-of-type {\n",
       "        vertical-align: middle;\n",
       "    }\n",
       "\n",
       "    .dataframe tbody tr th {\n",
       "        vertical-align: top;\n",
       "    }\n",
       "\n",
       "    .dataframe thead th {\n",
       "        text-align: right;\n",
       "    }\n",
       "</style>\n",
       "<table border=\"1\" class=\"dataframe\">\n",
       "  <thead>\n",
       "    <tr style=\"text-align: right;\">\n",
       "      <th></th>\n",
       "      <th>contact_uid</th>\n",
       "      <th>ymm</th>\n",
       "      <th>freq</th>\n",
       "      <th>ymm_negative</th>\n",
       "    </tr>\n",
       "  </thead>\n",
       "  <tbody>\n",
       "    <tr>\n",
       "      <th>0</th>\n",
       "      <td>0</td>\n",
       "      <td>4345</td>\n",
       "      <td>1</td>\n",
       "      <td>[3341, 1450, 9230, 6890, 7371, 5779, 9674, 342...</td>\n",
       "    </tr>\n",
       "    <tr>\n",
       "      <th>1</th>\n",
       "      <td>0</td>\n",
       "      <td>10</td>\n",
       "      <td>1</td>\n",
       "      <td>[8377, 1812, 6120, 6883, 7674, 4669, 3271, 932...</td>\n",
       "    </tr>\n",
       "    <tr>\n",
       "      <th>2</th>\n",
       "      <td>0</td>\n",
       "      <td>2234</td>\n",
       "      <td>1</td>\n",
       "      <td>[2977, 1805, 1657, 113, 9116, 3433, 8923, 6043...</td>\n",
       "    </tr>\n",
       "  </tbody>\n",
       "</table>\n",
       "</div>"
      ],
      "text/plain": [
       "   contact_uid   ymm  freq                                       ymm_negative\n",
       "0            0  4345     1  [3341, 1450, 9230, 6890, 7371, 5779, 9674, 342...\n",
       "1            0    10     1  [8377, 1812, 6120, 6883, 7674, 4669, 3271, 932...\n",
       "2            0  2234     1  [2977, 1805, 1657, 113, 9116, 3433, 8923, 6043..."
      ]
     },
     "execution_count": 30,
     "metadata": {},
     "output_type": "execute_result"
    }
   ],
   "source": [
    "testPlusNegSample.head(3)"
   ]
  },
  {
   "cell_type": "code",
   "execution_count": null,
   "metadata": {},
   "outputs": [],
   "source": []
  }
 ],
 "metadata": {
  "kernelspec": {
   "display_name": "Python 3",
   "language": "python",
   "name": "python3"
  },
  "language_info": {
   "codemirror_mode": {
    "name": "ipython",
    "version": 3
   },
   "file_extension": ".py",
   "mimetype": "text/x-python",
   "name": "python",
   "nbconvert_exporter": "python",
   "pygments_lexer": "ipython3",
   "version": "3.6.8"
  }
 },
 "nbformat": 4,
 "nbformat_minor": 2
}
