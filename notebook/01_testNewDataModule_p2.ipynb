{
 "cells": [
  {
   "cell_type": "code",
   "execution_count": 1,
   "metadata": {},
   "outputs": [],
   "source": [
    "%load_ext autoreload\n",
    "%autoreload 2\n",
    "\n",
    "import time\n",
    "import sys\n",
    "sys.path.append('../')\n",
    "import cf_ec2.dataPrep as dataPrep"
   ]
  },
  {
   "cell_type": "markdown",
   "metadata": {},
   "source": [
    "## step 1: import train data"
   ]
  },
  {
   "cell_type": "code",
   "execution_count": 2,
   "metadata": {},
   "outputs": [
    {
     "data": {
      "text/html": [
       "<div>\n",
       "<style scoped>\n",
       "    .dataframe tbody tr th:only-of-type {\n",
       "        vertical-align: middle;\n",
       "    }\n",
       "\n",
       "    .dataframe tbody tr th {\n",
       "        vertical-align: top;\n",
       "    }\n",
       "\n",
       "    .dataframe thead th {\n",
       "        text-align: right;\n",
       "    }\n",
       "</style>\n",
       "<table border=\"1\" class=\"dataframe\">\n",
       "  <thead>\n",
       "    <tr style=\"text-align: right;\">\n",
       "      <th></th>\n",
       "      <th>contact_uid</th>\n",
       "      <th>event_dt</th>\n",
       "      <th>make</th>\n",
       "      <th>model</th>\n",
       "      <th>jd_cat</th>\n",
       "      <th>jd_sub_cat</th>\n",
       "      <th>seller_cat</th>\n",
       "      <th>auction_cd</th>\n",
       "      <th>channel</th>\n",
       "      <th>age</th>\n",
       "      <th>mile</th>\n",
       "      <th>cr_grade</th>\n",
       "      <th>distance_miles</th>\n",
       "      <th>mmr</th>\n",
       "    </tr>\n",
       "  </thead>\n",
       "  <tbody>\n",
       "    <tr>\n",
       "      <th>0</th>\n",
       "      <td>100118431</td>\n",
       "      <td>2019-04-09</td>\n",
       "      <td>FORD</td>\n",
       "      <td>F150 FFV</td>\n",
       "      <td>PICKUP</td>\n",
       "      <td>LITE DUTY FULLS</td>\n",
       "      <td>Retail Dealership</td>\n",
       "      <td>FAAO</td>\n",
       "      <td>Simulcast</td>\n",
       "      <td>5</td>\n",
       "      <td>70737.0</td>\n",
       "      <td>4.3</td>\n",
       "      <td>680.0</td>\n",
       "      <td>15750.0</td>\n",
       "    </tr>\n",
       "    <tr>\n",
       "      <th>1</th>\n",
       "      <td>101224608</td>\n",
       "      <td>2018-09-25</td>\n",
       "      <td>NISSAN</td>\n",
       "      <td>ALTIMA</td>\n",
       "      <td>MIDSIZE CAR</td>\n",
       "      <td>PREMIUM</td>\n",
       "      <td>Captive Finance</td>\n",
       "      <td>FAAO</td>\n",
       "      <td>Simulcast</td>\n",
       "      <td>3</td>\n",
       "      <td>36019.0</td>\n",
       "      <td>4.3</td>\n",
       "      <td>2127.0</td>\n",
       "      <td>12000.0</td>\n",
       "    </tr>\n",
       "  </tbody>\n",
       "</table>\n",
       "</div>"
      ],
      "text/plain": [
       "   contact_uid    event_dt    make     model       jd_cat       jd_sub_cat  \\\n",
       "0    100118431  2019-04-09    FORD  F150 FFV       PICKUP  LITE DUTY FULLS   \n",
       "1    101224608  2018-09-25  NISSAN    ALTIMA  MIDSIZE CAR          PREMIUM   \n",
       "\n",
       "          seller_cat auction_cd    channel  age     mile  cr_grade  \\\n",
       "0  Retail Dealership       FAAO  Simulcast    5  70737.0       4.3   \n",
       "1    Captive Finance       FAAO  Simulcast    3  36019.0       4.3   \n",
       "\n",
       "   distance_miles      mmr  \n",
       "0           680.0  15750.0  \n",
       "1          2127.0  12000.0  "
      ]
     },
     "execution_count": 2,
     "metadata": {},
     "output_type": "execute_result"
    }
   ],
   "source": [
    "import pandas as pd\n",
    "\n",
    "data = pd.read_csv('../../rec_model_cf_20190702/metadata/trainData/purchase_20180731_20190725.csv',sep=',',header=0)\n",
    "data.head(2)"
   ]
  },
  {
   "cell_type": "code",
   "execution_count": 3,
   "metadata": {},
   "outputs": [
    {
     "data": {
      "text/html": [
       "<div>\n",
       "<style scoped>\n",
       "    .dataframe tbody tr th:only-of-type {\n",
       "        vertical-align: middle;\n",
       "    }\n",
       "\n",
       "    .dataframe tbody tr th {\n",
       "        vertical-align: top;\n",
       "    }\n",
       "\n",
       "    .dataframe thead th {\n",
       "        text-align: right;\n",
       "    }\n",
       "</style>\n",
       "<table border=\"1\" class=\"dataframe\">\n",
       "  <thead>\n",
       "    <tr style=\"text-align: right;\">\n",
       "      <th></th>\n",
       "      <th>contact_uid</th>\n",
       "      <th>ymm</th>\n",
       "      <th>freq</th>\n",
       "    </tr>\n",
       "  </thead>\n",
       "  <tbody>\n",
       "    <tr>\n",
       "      <th>0</th>\n",
       "      <td>100000012</td>\n",
       "      <td>10-BUICK-LACROSSE</td>\n",
       "      <td>1</td>\n",
       "    </tr>\n",
       "    <tr>\n",
       "      <th>1</th>\n",
       "      <td>100000012</td>\n",
       "      <td>10-CHEVROLET-IMPALA FFV</td>\n",
       "      <td>1</td>\n",
       "    </tr>\n",
       "    <tr>\n",
       "      <th>2</th>\n",
       "      <td>100000012</td>\n",
       "      <td>10-CHEVROLET-MALIBU</td>\n",
       "      <td>1</td>\n",
       "    </tr>\n",
       "    <tr>\n",
       "      <th>3</th>\n",
       "      <td>100000012</td>\n",
       "      <td>10-CHEVROLET-MALIBU FFV</td>\n",
       "      <td>1</td>\n",
       "    </tr>\n",
       "    <tr>\n",
       "      <th>4</th>\n",
       "      <td>100000012</td>\n",
       "      <td>10-FORD-ESCAPE</td>\n",
       "      <td>1</td>\n",
       "    </tr>\n",
       "  </tbody>\n",
       "</table>\n",
       "</div>"
      ],
      "text/plain": [
       "   contact_uid                      ymm  freq\n",
       "0    100000012        10-BUICK-LACROSSE     1\n",
       "1    100000012  10-CHEVROLET-IMPALA FFV     1\n",
       "2    100000012      10-CHEVROLET-MALIBU     1\n",
       "3    100000012  10-CHEVROLET-MALIBU FFV     1\n",
       "4    100000012           10-FORD-ESCAPE     1"
      ]
     },
     "execution_count": 3,
     "metadata": {},
     "output_type": "execute_result"
    }
   ],
   "source": [
    "data['ymm'] = [\n",
    "    '{year}-{make}-{model}'.format(\n",
    "        year=year,\n",
    "        make=make,\n",
    "        model=model\n",
    "    )\n",
    "    for year,make,model in zip(data.age,data.make,data.model)\n",
    "]\n",
    "\n",
    "train = data[data.event_dt>='2019-04-26'].groupby(['contact_uid','ymm']).size().reset_index().rename(columns={0:'freq'})\n",
    "test = data[\n",
    "    (data.event_dt>='2019-03-26')&(data.event_dt<='2019-04-25')\n",
    "].groupby(['contact_uid','ymm']).size().reset_index().rename(columns={0:'freq'})\n",
    "train.head(5)"
   ]
  },
  {
   "cell_type": "markdown",
   "metadata": {},
   "source": [
    "## step 2: test the dataPrep module"
   ]
  },
  {
   "cell_type": "code",
   "execution_count": 4,
   "metadata": {},
   "outputs": [],
   "source": [
    "dataset = dataPrep.Data(\n",
    "    train=train,\n",
    "    test=test,\n",
    "    col_user='contact_uid',\n",
    "    col_item='ymm',\n",
    "    col_rating='freq'\n",
    ")"
   ]
  },
  {
   "cell_type": "code",
   "execution_count": 5,
   "metadata": {},
   "outputs": [
    {
     "data": {
      "text/html": [
       "<div>\n",
       "<style scoped>\n",
       "    .dataframe tbody tr th:only-of-type {\n",
       "        vertical-align: middle;\n",
       "    }\n",
       "\n",
       "    .dataframe tbody tr th {\n",
       "        vertical-align: top;\n",
       "    }\n",
       "\n",
       "    .dataframe thead th {\n",
       "        text-align: right;\n",
       "    }\n",
       "</style>\n",
       "<table border=\"1\" class=\"dataframe\">\n",
       "  <thead>\n",
       "    <tr style=\"text-align: right;\">\n",
       "      <th></th>\n",
       "      <th>contact_uid</th>\n",
       "      <th>ymm</th>\n",
       "      <th>freq</th>\n",
       "    </tr>\n",
       "  </thead>\n",
       "  <tbody>\n",
       "    <tr>\n",
       "      <th>0</th>\n",
       "      <td>0</td>\n",
       "      <td>0</td>\n",
       "      <td>1</td>\n",
       "    </tr>\n",
       "    <tr>\n",
       "      <th>1</th>\n",
       "      <td>0</td>\n",
       "      <td>1</td>\n",
       "      <td>1</td>\n",
       "    </tr>\n",
       "    <tr>\n",
       "      <th>2</th>\n",
       "      <td>0</td>\n",
       "      <td>2</td>\n",
       "      <td>1</td>\n",
       "    </tr>\n",
       "  </tbody>\n",
       "</table>\n",
       "</div>"
      ],
      "text/plain": [
       "   contact_uid  ymm  freq\n",
       "0            0    0     1\n",
       "1            0    1     1\n",
       "2            0    2     1"
      ]
     },
     "execution_count": 5,
     "metadata": {},
     "output_type": "execute_result"
    }
   ],
   "source": [
    "dataset.train.head(3)"
   ]
  },
  {
   "cell_type": "code",
   "execution_count": 6,
   "metadata": {},
   "outputs": [
    {
     "data": {
      "text/plain": [
       "(100000012, '10-BUICK-LACROSSE')"
      ]
     },
     "execution_count": 6,
     "metadata": {},
     "output_type": "execute_result"
    }
   ],
   "source": [
    "dataset.id2user[0], dataset.id2item[0]"
   ]
  },
  {
   "cell_type": "code",
   "execution_count": 7,
   "metadata": {},
   "outputs": [
    {
     "data": {
      "text/html": [
       "<div>\n",
       "<style scoped>\n",
       "    .dataframe tbody tr th:only-of-type {\n",
       "        vertical-align: middle;\n",
       "    }\n",
       "\n",
       "    .dataframe tbody tr th {\n",
       "        vertical-align: top;\n",
       "    }\n",
       "\n",
       "    .dataframe thead th {\n",
       "        text-align: right;\n",
       "    }\n",
       "</style>\n",
       "<table border=\"1\" class=\"dataframe\">\n",
       "  <thead>\n",
       "    <tr style=\"text-align: right;\">\n",
       "      <th></th>\n",
       "      <th>contact_uid</th>\n",
       "      <th>ymm</th>\n",
       "      <th>freq</th>\n",
       "      <th>contact_uid_idx</th>\n",
       "      <th>ymm_idx</th>\n",
       "    </tr>\n",
       "  </thead>\n",
       "  <tbody>\n",
       "    <tr>\n",
       "      <th>0</th>\n",
       "      <td>100000012</td>\n",
       "      <td>10-BUICK-LACROSSE</td>\n",
       "      <td>1</td>\n",
       "      <td>0</td>\n",
       "      <td>0</td>\n",
       "    </tr>\n",
       "    <tr>\n",
       "      <th>1</th>\n",
       "      <td>100000012</td>\n",
       "      <td>10-CHEVROLET-IMPALA FFV</td>\n",
       "      <td>1</td>\n",
       "      <td>0</td>\n",
       "      <td>1</td>\n",
       "    </tr>\n",
       "    <tr>\n",
       "      <th>2</th>\n",
       "      <td>100000012</td>\n",
       "      <td>10-CHEVROLET-MALIBU</td>\n",
       "      <td>1</td>\n",
       "      <td>0</td>\n",
       "      <td>2</td>\n",
       "    </tr>\n",
       "  </tbody>\n",
       "</table>\n",
       "</div>"
      ],
      "text/plain": [
       "   contact_uid                      ymm  freq  contact_uid_idx  ymm_idx\n",
       "0    100000012        10-BUICK-LACROSSE     1                0        0\n",
       "1    100000012  10-CHEVROLET-IMPALA FFV     1                0        1\n",
       "2    100000012      10-CHEVROLET-MALIBU     1                0        2"
      ]
     },
     "execution_count": 7,
     "metadata": {},
     "output_type": "execute_result"
    }
   ],
   "source": [
    "train.head(3)"
   ]
  },
  {
   "cell_type": "code",
   "execution_count": 8,
   "metadata": {},
   "outputs": [
    {
     "name": "stdout",
     "output_type": "stream",
     "text": [
      "Finished in 43.76504111289978 seconds\n"
     ]
    }
   ],
   "source": [
    "t1 = time.time()\n",
    "dataset.prepTrainDNN()\n",
    "print('Finished in {} seconds'.format(time.time()-t1))"
   ]
  },
  {
   "cell_type": "code",
   "execution_count": 9,
   "metadata": {},
   "outputs": [
    {
     "name": "stdout",
     "output_type": "stream",
     "text": [
      "Finished in 512.3596007823944 seconds\n"
     ]
    }
   ],
   "source": [
    "t1 = time.time()\n",
    "dataset.prepTestDNN()\n",
    "print('Finished in {} seconds'.format(time.time()-t1))"
   ]
  },
  {
   "cell_type": "code",
   "execution_count": 11,
   "metadata": {},
   "outputs": [
    {
     "data": {
      "text/plain": [
       "(array([0, 0, 0, 0, 0, 0]),\n",
       " array([0, 1, 2, 3, 4, 5]),\n",
       " array([1., 1., 1., 1., 1., 3.]))"
      ]
     },
     "execution_count": 11,
     "metadata": {},
     "output_type": "execute_result"
    }
   ],
   "source": [
    "dataset.users[:6],dataset.items[:6],dataset.ratings[:6]"
   ]
  },
  {
   "cell_type": "code",
   "execution_count": 16,
   "metadata": {},
   "outputs": [
    {
     "data": {
      "text/plain": [
       "([0, 0, 0, 0, 0, 0],\n",
       " [4345, 5112, 5723, 3590, 7862, 1227],\n",
       " [1.0, 0.0, 0.0, 0.0, 0.0, 0.0])"
      ]
     },
     "execution_count": 16,
     "metadata": {},
     "output_type": "execute_result"
    }
   ],
   "source": [
    "dataset.test_users[:6],dataset.test_items[:6],dataset.test_ratings[:6]"
   ]
  },
  {
   "cell_type": "code",
   "execution_count": 20,
   "metadata": {},
   "outputs": [
    {
     "name": "stdout",
     "output_type": "stream",
     "text": [
      "Finished in 222.29684114456177 seconds\n"
     ]
    }
   ],
   "source": [
    "t1 = time.time()\n",
    "dataset.negativeSampling()\n",
    "print('Finished in {} seconds'.format(time.time()-t1))"
   ]
  },
  {
   "cell_type": "code",
   "execution_count": 21,
   "metadata": {},
   "outputs": [
    {
     "data": {
      "text/plain": [
       "(array([0, 0, 0, 0, 0, 0]),\n",
       " array([   0, 5104, 5417, 4340, 4935,    1]),\n",
       " array([1., 0., 0., 0., 0., 1.]))"
      ]
     },
     "execution_count": 21,
     "metadata": {},
     "output_type": "execute_result"
    }
   ],
   "source": [
    "dataset.users[:6],dataset.items[:6],dataset.ratings[:6]"
   ]
  },
  {
   "cell_type": "code",
   "execution_count": null,
   "metadata": {},
   "outputs": [],
   "source": []
  }
 ],
 "metadata": {
  "kernelspec": {
   "display_name": "Python 3",
   "language": "python",
   "name": "python3"
  },
  "language_info": {
   "codemirror_mode": {
    "name": "ipython",
    "version": 3
   },
   "file_extension": ".py",
   "mimetype": "text/x-python",
   "name": "python",
   "nbconvert_exporter": "python",
   "pygments_lexer": "ipython3",
   "version": "3.6.8"
  }
 },
 "nbformat": 4,
 "nbformat_minor": 2
}
