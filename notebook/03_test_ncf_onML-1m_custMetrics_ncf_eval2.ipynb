{
 "cells": [
  {
   "cell_type": "markdown",
   "metadata": {},
   "source": [
    "# Test the NCF module under folder [cf_ec2](../cf_ec2) with ml-1m dataset, save the best model (using integrated modules with compile and fit components, with gmf and mlp pretrain)\n",
    "\n",
    "#### 3/21/2020"
   ]
  },
  {
   "cell_type": "code",
   "execution_count": 1,
   "metadata": {},
   "outputs": [
    {
     "name": "stderr",
     "output_type": "stream",
     "text": [
      "Using TensorFlow backend.\n"
     ]
    }
   ],
   "source": [
    "import numpy as np \n",
    "import pandas as pd\n",
    "import keras\n",
    "from keras import Model\n",
    "from keras.regularizers import l2\n",
    "from keras.optimizers import (\n",
    "    Adam,\n",
    "    Adamax,\n",
    "    Adagrad,\n",
    "    SGD,\n",
    "    RMSprop\n",
    ")\n",
    "from keras.layers import (\n",
    "    Embedding, \n",
    "    Input,\n",
    "    Flatten, \n",
    "    Multiply, \n",
    "    Concatenate,\n",
    "    Dense\n",
    ")\n",
    "\n",
    "import sys\n",
    "sys.path.append('../')\n",
    "from cf_ec2 import (\n",
    "    GMF,\n",
    "    MLP,\n",
    "    NCF,\n",
    "    Data,\n",
    "    evaluation,\n",
    "    evaluation_grouped\n",
    ")"
   ]
  },
  {
   "cell_type": "markdown",
   "metadata": {},
   "source": [
    "## step 1: load the data"
   ]
  },
  {
   "cell_type": "code",
   "execution_count": 2,
   "metadata": {},
   "outputs": [],
   "source": [
    "train = pd.read_csv('../data/ml-1m.train.rating',sep='\\t',header=None,names=['user','item','rating','event_ts'])\n",
    "test = pd.read_csv('../data/ml-1m.test.rating',sep='\\t',header=None,names=['user','item','rating','event_ts'])"
   ]
  },
  {
   "cell_type": "code",
   "execution_count": 3,
   "metadata": {},
   "outputs": [
    {
     "data": {
      "text/plain": [
       "(6040, (6040, 4))"
      ]
     },
     "execution_count": 3,
     "metadata": {},
     "output_type": "execute_result"
    }
   ],
   "source": [
    "test.user.nunique(), test.shape"
   ]
  },
  {
   "cell_type": "markdown",
   "metadata": {},
   "source": [
    "## step 2: prepare the data for gmf model training"
   ]
  },
  {
   "cell_type": "code",
   "execution_count": 4,
   "metadata": {},
   "outputs": [],
   "source": [
    "dataset = Data(\n",
    "    train=train,\n",
    "    test=test,\n",
    "    col_user='user',\n",
    "    col_item='item',\n",
    "    col_rating='rating',\n",
    "    col_time='event_ts',\n",
    "    binary=True,\n",
    "    n_neg=4,\n",
    "    n_neg_test=100\n",
    ")\n",
    "dataset.prepTrainDNN(negSample=True)\n",
    "dataset.prepTestDNN(group=False)"
   ]
  },
  {
   "cell_type": "code",
   "execution_count": 5,
   "metadata": {},
   "outputs": [
    {
     "data": {
      "text/html": [
       "<div>\n",
       "<style scoped>\n",
       "    .dataframe tbody tr th:only-of-type {\n",
       "        vertical-align: middle;\n",
       "    }\n",
       "\n",
       "    .dataframe tbody tr th {\n",
       "        vertical-align: top;\n",
       "    }\n",
       "\n",
       "    .dataframe thead th {\n",
       "        text-align: right;\n",
       "    }\n",
       "</style>\n",
       "<table border=\"1\" class=\"dataframe\">\n",
       "  <thead>\n",
       "    <tr style=\"text-align: right;\">\n",
       "      <th></th>\n",
       "      <th>user</th>\n",
       "      <th>item_interacted</th>\n",
       "      <th>item_negative</th>\n",
       "    </tr>\n",
       "  </thead>\n",
       "  <tbody>\n",
       "    <tr>\n",
       "      <th>0</th>\n",
       "      <td>0</td>\n",
       "      <td>{0, 1, 2, 3, 4, 5, 6, 7, 8, 9, 10, 11, 12, 13,...</td>\n",
       "      <td>{52, 53, 54, 55, 56, 57, 58, 59, 60, 61, 62, 6...</td>\n",
       "    </tr>\n",
       "    <tr>\n",
       "      <th>1</th>\n",
       "      <td>1</td>\n",
       "      <td>{15, 22, 31, 34, 35, 42, 43, 52, 53, 54, 55, 5...</td>\n",
       "      <td>{0, 1, 2, 3, 4, 5, 6, 7, 8, 9, 10, 11, 12, 13,...</td>\n",
       "    </tr>\n",
       "    <tr>\n",
       "      <th>2</th>\n",
       "      <td>2</td>\n",
       "      <td>{2, 135, 136, 14, 18, 147, 159, 163, 36, 40, 1...</td>\n",
       "      <td>{0, 1, 3, 4, 5, 6, 7, 8, 9, 10, 11, 12, 13, 15...</td>\n",
       "    </tr>\n",
       "  </tbody>\n",
       "</table>\n",
       "</div>"
      ],
      "text/plain": [
       "   user                                    item_interacted  \\\n",
       "0     0  {0, 1, 2, 3, 4, 5, 6, 7, 8, 9, 10, 11, 12, 13,...   \n",
       "1     1  {15, 22, 31, 34, 35, 42, 43, 52, 53, 54, 55, 5...   \n",
       "2     2  {2, 135, 136, 14, 18, 147, 159, 163, 36, 40, 1...   \n",
       "\n",
       "                                       item_negative  \n",
       "0  {52, 53, 54, 55, 56, 57, 58, 59, 60, 61, 62, 6...  \n",
       "1  {0, 1, 2, 3, 4, 5, 6, 7, 8, 9, 10, 11, 12, 13,...  \n",
       "2  {0, 1, 3, 4, 5, 6, 7, 8, 9, 10, 11, 12, 13, 15...  "
      ]
     },
     "execution_count": 5,
     "metadata": {},
     "output_type": "execute_result"
    }
   ],
   "source": [
    "dataset.interaction_train.head(3)"
   ]
  },
  {
   "cell_type": "markdown",
   "metadata": {},
   "source": [
    "#### prepare the test dataset"
   ]
  },
  {
   "cell_type": "code",
   "execution_count": 6,
   "metadata": {},
   "outputs": [],
   "source": [
    "newItems = set(dataset.items_test)-set(dataset.items)\n",
    "idx2del = []\n",
    "for idx,item in enumerate(dataset.items_test):\n",
    "    if item in newItems:\n",
    "        idx2del.append(idx)\n",
    "\n",
    "length_test_original = len(dataset.users_test)\n",
    "dataset.users_test = [\n",
    "    dataset.users_test[idx]\n",
    "    for idx in range(length_test_original) if idx not in idx2del\n",
    "]\n",
    "dataset.items_test = [\n",
    "    dataset.items_test[idx]\n",
    "    for idx in range(length_test_original) if idx not in idx2del\n",
    "]\n",
    "dataset.ratings_test = [\n",
    "    dataset.ratings_test[idx]\n",
    "    for idx in range(length_test_original) if idx not in idx2del\n",
    "]"
   ]
  },
  {
   "cell_type": "markdown",
   "metadata": {},
   "source": [
    "## step 3: create the model architecture and fit model with training data"
   ]
  },
  {
   "cell_type": "code",
   "execution_count": 7,
   "metadata": {},
   "outputs": [
    {
     "name": "stderr",
     "output_type": "stream",
     "text": [
      "/Users/xyin/anaconda3/lib/python3.7/site-packages/tensorflow_core/python/framework/indexed_slices.py:433: UserWarning: Converting sparse IndexedSlices to a dense Tensor of unknown shape. This may consume a large amount of memory.\n",
      "  \"Converting sparse IndexedSlices to a dense Tensor of unknown shape. \"\n",
      "/Users/xyin/anaconda3/lib/python3.7/site-packages/tensorflow_core/python/framework/indexed_slices.py:433: UserWarning: Converting sparse IndexedSlices to a dense Tensor of unknown shape. This may consume a large amount of memory.\n",
      "  \"Converting sparse IndexedSlices to a dense Tensor of unknown shape. \"\n"
     ]
    }
   ],
   "source": [
    "gmf = keras.models.load_model('../metadata/gmf/gmf-best.hdf5')\n",
    "mlp = keras.models.load_model('../metadata/mlp/mlp-best.hdf5')"
   ]
  },
  {
   "cell_type": "code",
   "execution_count": 8,
   "metadata": {
    "scrolled": false
   },
   "outputs": [],
   "source": [
    "n_users = 6040\n",
    "n_items = 3704\n",
    "n_factors_gmf = 32\n",
    "layers_mlp = [64,32,16,8]\n",
    "reg_gmf = 0.\n",
    "reg_layers_mlp = [0.,0.,0.,0.]\n",
    "learning_rate = 0.01\n",
    "flg_pretrain = ''\n",
    "filepath = ''\n",
    "filepath_mlp_pretrain = ''\n",
    "filepath_mlp_pretrain = ''\n",
    "num_epochs = 20\n",
    "batch_size = 100\n",
    "\n",
    "ncf = NCF(\n",
    "    n_users=n_users,\n",
    "    n_items=n_items,\n",
    "    n_factors_gmf=n_factors_gmf,\n",
    "    layers_mlp=layers_mlp,\n",
    "    reg_gmf=reg_gmf,\n",
    "    reg_layers_mlp=reg_layers_mlp\n",
    ")\n",
    "ncf.create_model()\n",
    "ncf.load_pretrain_model(\n",
    "    gmf,\n",
    "    mlp,\n",
    "    len(layers_mlp)\n",
    ")"
   ]
  },
  {
   "cell_type": "code",
   "execution_count": 9,
   "metadata": {},
   "outputs": [],
   "source": [
    "ncf.compile(learning_rate=learning_rate)"
   ]
  },
  {
   "cell_type": "code",
   "execution_count": 10,
   "metadata": {},
   "outputs": [
    {
     "name": "stderr",
     "output_type": "stream",
     "text": [
      "/Users/xyin/anaconda3/lib/python3.7/site-packages/tensorflow_core/python/framework/indexed_slices.py:433: UserWarning: Converting sparse IndexedSlices to a dense Tensor of unknown shape. This may consume a large amount of memory.\n",
      "  \"Converting sparse IndexedSlices to a dense Tensor of unknown shape. \"\n"
     ]
    },
    {
     "name": "stdout",
     "output_type": "stream",
     "text": [
      "Train on 4970845 samples, validate on 610038 samples\n",
      "Epoch 1/20\n",
      " - 238s - loss: 0.2829 - accuracy: 0.8778 - val_loss: 0.1492 - val_accuracy: 0.9373\n",
      "\n",
      "Epoch 00001: val_loss improved from inf to 0.14924, saving model to /Users/xyin/Documents/work/projects/rec_utils/metadata/ncf2/ncf-weights-improvement-01-0.1492.hdf5\n",
      "Epoch 2/20\n",
      " - 230s - loss: 0.2830 - accuracy: 0.8801 - val_loss: 0.1617 - val_accuracy: 0.9321\n",
      "\n",
      "Epoch 00002: val_loss did not improve from 0.14924\n",
      "Epoch 3/20\n",
      " - 223s - loss: 0.2846 - accuracy: 0.8808 - val_loss: 0.1426 - val_accuracy: 0.9394\n",
      "\n",
      "Epoch 00003: val_loss improved from 0.14924 to 0.14262, saving model to /Users/xyin/Documents/work/projects/rec_utils/metadata/ncf2/ncf-weights-improvement-03-0.1426.hdf5\n",
      "Epoch 4/20\n",
      " - 3140s - loss: 0.2864 - accuracy: 0.8814 - val_loss: 0.1853 - val_accuracy: 0.9167\n",
      "\n",
      "Epoch 00004: val_loss did not improve from 0.14262\n",
      "Epoch 5/20\n",
      " - 553s - loss: 0.2877 - accuracy: 0.8818 - val_loss: 0.2796 - val_accuracy: 0.8675\n",
      "\n",
      "Epoch 00005: val_loss did not improve from 0.14262\n",
      "Epoch 6/20\n",
      " - 280s - loss: 0.2887 - accuracy: 0.8822 - val_loss: 0.1349 - val_accuracy: 0.9435\n",
      "\n",
      "Epoch 00006: val_loss improved from 0.14262 to 0.13495, saving model to /Users/xyin/Documents/work/projects/rec_utils/metadata/ncf2/ncf-weights-improvement-06-0.1349.hdf5\n",
      "Epoch 7/20\n",
      " - 242s - loss: 0.2890 - accuracy: 0.8828 - val_loss: 0.1422 - val_accuracy: 0.9395\n",
      "\n",
      "Epoch 00007: val_loss did not improve from 0.13495\n",
      "Epoch 8/20\n",
      " - 234s - loss: 0.2905 - accuracy: 0.8829 - val_loss: 0.1609 - val_accuracy: 0.9307\n",
      "\n",
      "Epoch 00008: val_loss did not improve from 0.13495\n",
      "Epoch 9/20\n",
      " - 239s - loss: 0.2917 - accuracy: 0.8829 - val_loss: 0.1370 - val_accuracy: 0.9391\n",
      "\n",
      "Epoch 00009: val_loss did not improve from 0.13495\n",
      "Epoch 10/20\n",
      " - 223s - loss: 0.2924 - accuracy: 0.8830 - val_loss: 0.1465 - val_accuracy: 0.9375\n",
      "\n",
      "Epoch 00010: val_loss did not improve from 0.13495\n",
      "\n",
      "Epoch 00010: ReduceLROnPlateau reducing learning rate to 0.0029999999329447745.\n",
      "Epoch 11/20\n",
      " - 232s - loss: 0.2503 - accuracy: 0.8962 - val_loss: 0.1479 - val_accuracy: 0.9360\n",
      "\n",
      "Epoch 00011: val_loss did not improve from 0.13495\n",
      "Epoch 12/20\n",
      " - 241s - loss: 0.2460 - accuracy: 0.8985 - val_loss: 0.1630 - val_accuracy: 0.9287\n",
      "\n",
      "Epoch 00012: val_loss did not improve from 0.13495\n",
      "Epoch 13/20\n",
      " - 238s - loss: 0.2440 - accuracy: 0.9000 - val_loss: 0.1296 - val_accuracy: 0.9458\n",
      "\n",
      "Epoch 00013: val_loss improved from 0.13495 to 0.12963, saving model to /Users/xyin/Documents/work/projects/rec_utils/metadata/ncf2/ncf-weights-improvement-13-0.1296.hdf5\n",
      "Epoch 14/20\n",
      " - 243s - loss: 0.2421 - accuracy: 0.9009 - val_loss: 0.1870 - val_accuracy: 0.9163\n",
      "\n",
      "Epoch 00014: val_loss did not improve from 0.12963\n",
      "Epoch 15/20\n",
      " - 239s - loss: 0.2403 - accuracy: 0.9020 - val_loss: 0.1603 - val_accuracy: 0.9310\n",
      "\n",
      "Epoch 00015: val_loss did not improve from 0.12963\n",
      "Epoch 16/20\n",
      " - 235s - loss: 0.2390 - accuracy: 0.9028 - val_loss: 0.1767 - val_accuracy: 0.9260\n",
      "\n",
      "Epoch 00016: val_loss did not improve from 0.12963\n",
      "Epoch 17/20\n",
      " - 235s - loss: 0.2381 - accuracy: 0.9034 - val_loss: 0.1322 - val_accuracy: 0.9459\n",
      "\n",
      "Epoch 00017: val_loss did not improve from 0.12963\n",
      "\n",
      "Epoch 00017: ReduceLROnPlateau reducing learning rate to 0.0009000000078231095.\n",
      "Epoch 18/20\n",
      " - 244s - loss: 0.2174 - accuracy: 0.9112 - val_loss: 0.1566 - val_accuracy: 0.9332\n",
      "\n",
      "Epoch 00018: val_loss did not improve from 0.12963\n",
      "Epoch 19/20\n",
      " - 239s - loss: 0.2157 - accuracy: 0.9121 - val_loss: 0.1632 - val_accuracy: 0.9313\n",
      "\n",
      "Epoch 00019: val_loss did not improve from 0.12963\n",
      "Epoch 20/20\n",
      " - 240s - loss: 0.2149 - accuracy: 0.9125 - val_loss: 0.1396 - val_accuracy: 0.9421\n",
      "\n",
      "Epoch 00020: val_loss did not improve from 0.12963\n"
     ]
    }
   ],
   "source": [
    "hist = ncf.fit(\n",
    "    dataset=dataset,\n",
    "    batch_size=batch_size,\n",
    "    num_epochs=num_epochs,\n",
    "    path_model_weights='/Users/xyin/Documents/work/projects/rec_utils/metadata/ncf2/ncf-weights-improvement-{epoch:02d}-{val_loss:.4f}.hdf5',\n",
    "    path_csvlog='/Users/xyin/Documents/work/projects/rec_utils/metadata/ncf2/ncf_log.csv'\n",
    ")"
   ]
  },
  {
   "cell_type": "markdown",
   "metadata": {},
   "source": [
    "#### double check the current state of the trained model"
   ]
  },
  {
   "cell_type": "code",
   "execution_count": 11,
   "metadata": {},
   "outputs": [
    {
     "name": "stderr",
     "output_type": "stream",
     "text": [
      "100%|██████████| 6040/6040 [02:50<00:00, 35.39it/s]\n"
     ]
    }
   ],
   "source": [
    "evaluator = evaluation_grouped.metricsEval(\n",
    "    model=ncf.model,\n",
    "    users=dataset.users,\n",
    "    items=dataset.items\n",
    ")\n",
    "evaluator.getRecs()"
   ]
  },
  {
   "cell_type": "code",
   "execution_count": 12,
   "metadata": {},
   "outputs": [
    {
     "data": {
      "text/html": [
       "<div>\n",
       "<style scoped>\n",
       "    .dataframe tbody tr th:only-of-type {\n",
       "        vertical-align: middle;\n",
       "    }\n",
       "\n",
       "    .dataframe tbody tr th {\n",
       "        vertical-align: top;\n",
       "    }\n",
       "\n",
       "    .dataframe thead th {\n",
       "        text-align: right;\n",
       "    }\n",
       "</style>\n",
       "<table border=\"1\" class=\"dataframe\">\n",
       "  <thead>\n",
       "    <tr style=\"text-align: right;\">\n",
       "      <th></th>\n",
       "      <th>userID</th>\n",
       "      <th>itemID</th>\n",
       "      <th>prediction</th>\n",
       "    </tr>\n",
       "  </thead>\n",
       "  <tbody>\n",
       "    <tr>\n",
       "      <th>0</th>\n",
       "      <td>0</td>\n",
       "      <td>0</td>\n",
       "      <td>0.830965</td>\n",
       "    </tr>\n",
       "    <tr>\n",
       "      <th>1</th>\n",
       "      <td>0</td>\n",
       "      <td>1</td>\n",
       "      <td>0.978875</td>\n",
       "    </tr>\n",
       "    <tr>\n",
       "      <th>2</th>\n",
       "      <td>0</td>\n",
       "      <td>2</td>\n",
       "      <td>0.945869</td>\n",
       "    </tr>\n",
       "  </tbody>\n",
       "</table>\n",
       "</div>"
      ],
      "text/plain": [
       "   userID  itemID  prediction\n",
       "0       0       0    0.830965\n",
       "1       0       1    0.978875\n",
       "2       0       2    0.945869"
      ]
     },
     "execution_count": 12,
     "metadata": {},
     "output_type": "execute_result"
    }
   ],
   "source": [
    "evaluator.all_predictions.head(3)"
   ]
  },
  {
   "cell_type": "code",
   "execution_count": 13,
   "metadata": {},
   "outputs": [],
   "source": [
    "rmse,auc,logloss = evaluator.getOverlapBasedMetrics(\n",
    "    dataset.users_test,\n",
    "    dataset.items_test,\n",
    "    dataset.ratings_test\n",
    ")"
   ]
  },
  {
   "cell_type": "code",
   "execution_count": 14,
   "metadata": {},
   "outputs": [
    {
     "data": {
      "text/plain": [
       "(0.20498470224471785, 0.8852133304743248, 0.13960937903580425)"
      ]
     },
     "execution_count": 14,
     "metadata": {},
     "output_type": "execute_result"
    }
   ],
   "source": [
    "rmse,auc,logloss"
   ]
  },
  {
   "cell_type": "markdown",
   "metadata": {},
   "source": [
    "it proves that the model is still at the state of last epoch !!!"
   ]
  },
  {
   "cell_type": "markdown",
   "metadata": {},
   "source": [
    "You can also do something like this"
   ]
  },
  {
   "cell_type": "code",
   "execution_count": 15,
   "metadata": {},
   "outputs": [],
   "source": [
    "scores = ncf.model.evaluate(\n",
    "    x = [\n",
    "        np.array(dataset.users_test),\n",
    "        np.array(dataset.items_test)\n",
    "    ],\n",
    "    y = np.array(dataset.ratings_test),\n",
    "    verbose=0\n",
    ")"
   ]
  },
  {
   "cell_type": "code",
   "execution_count": 16,
   "metadata": {},
   "outputs": [
    {
     "data": {
      "text/plain": [
       "[0.13960937837659357, 0.9420790076255798]"
      ]
     },
     "execution_count": 16,
     "metadata": {},
     "output_type": "execute_result"
    }
   ],
   "source": [
    "scores"
   ]
  },
  {
   "cell_type": "code",
   "execution_count": 17,
   "metadata": {},
   "outputs": [
    {
     "data": {
      "text/plain": [
       "['loss', 'accuracy']"
      ]
     },
     "execution_count": 17,
     "metadata": {},
     "output_type": "execute_result"
    }
   ],
   "source": [
    "ncf.model.metrics_names"
   ]
  },
  {
   "cell_type": "markdown",
   "metadata": {},
   "source": [
    "#### try to load the parameters from the best model"
   ]
  },
  {
   "cell_type": "code",
   "execution_count": 18,
   "metadata": {},
   "outputs": [],
   "source": [
    "ncf.model.load_weights('../metadata/ncf2/ncf-weights-improvement-13-0.1296.hdf5')"
   ]
  },
  {
   "cell_type": "code",
   "execution_count": 19,
   "metadata": {},
   "outputs": [],
   "source": [
    "scores = ncf.model.evaluate(\n",
    "    x = [\n",
    "        np.array(dataset.users_test),\n",
    "        np.array(dataset.items_test)\n",
    "    ],\n",
    "    y = np.array(dataset.ratings_test),\n",
    "    verbose=0\n",
    ")"
   ]
  },
  {
   "cell_type": "code",
   "execution_count": 20,
   "metadata": {},
   "outputs": [
    {
     "data": {
      "text/plain": [
       "[0.12962980293427456, 0.9457705616950989]"
      ]
     },
     "execution_count": 20,
     "metadata": {},
     "output_type": "execute_result"
    }
   ],
   "source": [
    "scores"
   ]
  },
  {
   "cell_type": "code",
   "execution_count": 21,
   "metadata": {},
   "outputs": [
    {
     "name": "stderr",
     "output_type": "stream",
     "text": [
      "100%|██████████| 6040/6040 [02:52<00:00, 35.02it/s]\n"
     ]
    },
    {
     "data": {
      "text/plain": [
       "(0.19726011174002897, 0.8870137908313572, 0.1296010063946608)"
      ]
     },
     "execution_count": 21,
     "metadata": {},
     "output_type": "execute_result"
    }
   ],
   "source": [
    "evaluator = evaluation_grouped.metricsEval(\n",
    "    model=ncf.model,\n",
    "    users=dataset.users,\n",
    "    items=dataset.items\n",
    ")\n",
    "evaluator.getRecs()\n",
    "rmse,auc,logloss = evaluator.getOverlapBasedMetrics(\n",
    "    dataset.users_test,\n",
    "    dataset.items_test,\n",
    "    dataset.ratings_test\n",
    ")\n",
    "rmse,auc,logloss"
   ]
  },
  {
   "cell_type": "markdown",
   "metadata": {},
   "source": [
    "#### try to save/load the complete model"
   ]
  },
  {
   "cell_type": "code",
   "execution_count": 10,
   "metadata": {},
   "outputs": [],
   "source": [
    "ncf.model.save('../metadata/ncf2/ncf-best.hdf5')"
   ]
  },
  {
   "cell_type": "code",
   "execution_count": 12,
   "metadata": {},
   "outputs": [
    {
     "name": "stderr",
     "output_type": "stream",
     "text": [
      "/Users/xyin/anaconda3/lib/python3.7/site-packages/tensorflow_core/python/framework/indexed_slices.py:433: UserWarning: Converting sparse IndexedSlices to a dense Tensor of unknown shape. This may consume a large amount of memory.\n",
      "  \"Converting sparse IndexedSlices to a dense Tensor of unknown shape. \"\n"
     ]
    }
   ],
   "source": [
    "model3 = keras.models.load_model('../metadata/ncf2/ncf-best.hdf5')"
   ]
  },
  {
   "cell_type": "code",
   "execution_count": 13,
   "metadata": {},
   "outputs": [
    {
     "name": "stderr",
     "output_type": "stream",
     "text": [
      "100%|██████████| 6040/6040 [03:02<00:00, 33.12it/s]\n"
     ]
    },
    {
     "data": {
      "text/plain": [
       "(0.19752335551377526, 0.8868389141123876, 0.13001185821060054)"
      ]
     },
     "execution_count": 13,
     "metadata": {},
     "output_type": "execute_result"
    }
   ],
   "source": [
    "evaluator = evaluation_grouped.metricsEval(\n",
    "    model=model3,\n",
    "    users=dataset.users,\n",
    "    items=dataset.items\n",
    ")\n",
    "evaluator.getRecs()\n",
    "rmse,auc,logloss = evaluator.getOverlapBasedMetrics(\n",
    "    dataset.users_test,\n",
    "    dataset.items_test,\n",
    "    dataset.ratings_test\n",
    ")\n",
    "rmse,auc,logloss"
   ]
  },
  {
   "cell_type": "code",
   "execution_count": 14,
   "metadata": {
    "scrolled": false
   },
   "outputs": [
    {
     "data": {
      "text/plain": [
       "(0.02616760516727393,\n",
       " 0.0026167605167273927,\n",
       " 0.011779148923791428,\n",
       " 0.007521740616308355)"
      ]
     },
     "execution_count": 14,
     "metadata": {},
     "output_type": "execute_result"
    }
   ],
   "source": [
    "recall,precision,ndcg,map2 = evaluator.getRankBasedMetrics(\n",
    "    dataset.users_test,\n",
    "    dataset.items_test,\n",
    "    dataset.ratings_test\n",
    ")\n",
    "recall,precision,ndcg,map2"
   ]
  },
  {
   "cell_type": "markdown",
   "metadata": {},
   "source": [
    "## Not as good as literature reported numbers"
   ]
  },
  {
   "cell_type": "code",
   "execution_count": null,
   "metadata": {},
   "outputs": [],
   "source": []
  }
 ],
 "metadata": {
  "kernelspec": {
   "display_name": "Python 3",
   "language": "python",
   "name": "python3"
  },
  "language_info": {
   "codemirror_mode": {
    "name": "ipython",
    "version": 3
   },
   "file_extension": ".py",
   "mimetype": "text/x-python",
   "name": "python",
   "nbconvert_exporter": "python",
   "pygments_lexer": "ipython3",
   "version": "3.7.4"
  }
 },
 "nbformat": 4,
 "nbformat_minor": 2
}
